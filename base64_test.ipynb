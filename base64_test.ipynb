{
 "cells": [
  {
   "cell_type": "markdown",
   "id": "8efa8f55-2f15-4585-9cd5-cc8af2f1f61d",
   "metadata": {},
   "source": [
    "## 1. Load Model\n",
    "Load the CNN model with trained weight and bias from the .pt file."
   ]
  },
  {
   "cell_type": "code",
   "execution_count": 1,
   "id": "841abf2c-1be0-4819-b7b6-7fff1a65956d",
   "metadata": {},
   "outputs": [],
   "source": [
    "import torch\n",
    "import torch.nn as nn\n",
    "import torch.nn.functional as F\n",
    "from torch.autograd import Variable\n",
    "import numpy as np\n",
    "from PIL import Image\n",
    "from matplotlib import pyplot"
   ]
  },
  {
   "cell_type": "code",
   "execution_count": 2,
   "id": "c77c4cd6-5bbc-4b06-a174-e750cdefc5c1",
   "metadata": {},
   "outputs": [],
   "source": [
    "import warnings\n",
    "warnings.filterwarnings('ignore')"
   ]
  },
  {
   "cell_type": "code",
   "execution_count": 3,
   "id": "8c5730e8-0129-4184-b067-1f96de9b2c33",
   "metadata": {},
   "outputs": [],
   "source": [
    "# CNN class\n",
    "class CNN(nn.Module):\n",
    "     # Initialization\n",
    "    def __init__(self):\n",
    "        super (CNN, self).__init__()\n",
    "        \n",
    "        self.conv1_out_np = np.zeros((1, 3, 24, 24))\n",
    "        self.mp1_out_np = np.zeros((1, 3, 12, 12))\n",
    "        self.conv2_out_np = np.zeros((1, 3, 8, 8))\n",
    "        self.mp2_out_np = np.zeros((1, 3, 4, 4))\n",
    "        self.fc_in_np = np.zeros((1, 48))\n",
    "        self.fc_out_np = np.zeros((1, 10))\n",
    "        \n",
    "        # 1st Convolution Layer\n",
    "        # Image Input Shape -> (28, 28, 1)\n",
    "        # Convolution Layer -> (24, 24, 3)\n",
    "        # Pooling Max Layer -> (12, 12, 3)\n",
    "        self.conv1 = nn.Conv2d(1, 3, kernel_size=5)\n",
    "        \n",
    "        # 2nd Convolution Layer\n",
    "        # Image Input Shape -> (12, 12, 3)\n",
    "        # Convolution Layer -> (8, 8, 3)\n",
    "        # pooling Max Layer -> (4, 4, 3)\n",
    "        self.conv2 = nn.Conv2d(3, 3, kernel_size=5)\n",
    "        \n",
    "        # Max Pooling Layer\n",
    "        self.mp = nn.MaxPool2d(2)\n",
    "        \n",
    "        # Fully Connected Layer\n",
    "        # Num of Weight = 480\n",
    "        self.fc_1 = nn.Linear(48, 10)\n",
    "        \n",
    "    def forward(self, x):\n",
    "        in_size = x.size(0)\n",
    "        \n",
    "        # Layer Integration\n",
    "        x = self.conv1(x)\n",
    "        self.conv1_out_np = x.detach().numpy()\n",
    "        \n",
    "        x = F.relu(self.mp(x))\n",
    "        self.mp1_out_np = x.detach().numpy()\n",
    "\n",
    "        x = self.conv2(x)\n",
    "        self.conv2_out_np = x.detach().numpy()\n",
    "        \n",
    "        x = F.relu(self.mp(x))\n",
    "        self.mp2_out_np = x.detach().numpy()\n",
    "        \n",
    "        # Flatten Layer\n",
    "        x = x.view(in_size, -1)\n",
    "        self.fc_in_np = x.detach().numpy()\n",
    "        \n",
    "        # Fully Connected Layer\n",
    "        x = self.fc_1(x)\n",
    "        self.fc_out_np = x.detach().numpy()\n",
    "        \n",
    "        return F.log_softmax(x)"
   ]
  },
  {
   "cell_type": "code",
   "execution_count": 4,
   "id": "3bc9fc43-fee4-4415-b7ce-d1875eb40e0c",
   "metadata": {},
   "outputs": [
    {
     "name": "stdout",
     "output_type": "stream",
     "text": [
      "CNN(\n",
      "  (conv1): Conv2d(1, 3, kernel_size=(5, 5), stride=(1, 1))\n",
      "  (conv2): Conv2d(3, 3, kernel_size=(5, 5), stride=(1, 1))\n",
      "  (mp): MaxPool2d(kernel_size=2, stride=2, padding=0, dilation=1, ceil_mode=False)\n",
      "  (fc_1): Linear(in_features=48, out_features=10, bias=True)\n",
      ")\n"
     ]
    }
   ],
   "source": [
    "# Load model\n",
    "model = torch.load(\"./cnn_mnist.pt\", weights_only=False)\n",
    "model.eval()\n",
    "print(model)"
   ]
  },
  {
   "cell_type": "markdown",
   "id": "2a3ef2fd-dbe3-4190-8c3c-fcf1e22887b3",
   "metadata": {},
   "source": [
    "## 2. Testing using Bitmap Image\n",
    "Test the model to classify a digit from .bmp image."
   ]
  },
  {
   "cell_type": "code",
   "execution_count": 5,
   "id": "58a16286-3503-4d15-a253-43a99b9baaef",
   "metadata": {},
   "outputs": [
    {
     "data": {
      "text/plain": [
       "<matplotlib.image.AxesImage at 0x1160c9506e0>"
      ]
     },
     "execution_count": 5,
     "metadata": {},
     "output_type": "execute_result"
    },
    {
     "data": {
      "image/png": "[encoded data removed]",
      "text/plain": [
       "<Figure size 640x480 with 1 Axes>"
      ]
     },
     "metadata": {},
     "output_type": "display_data"
    }
   ],
   "source": [
    "# Load bitmap image\n",
    "img = Image.open(\"./bmp/train_0.bmp\", \"r\")\n",
    "np_img = np.array(img)\n",
    "pyplot.imshow(np_img, cmap=pyplot.get_cmap('gray'))"
   ]
  },
  {
   "cell_type": "code",
   "execution_count": 6,
   "id": "2476b154-bd62-4d52-bb97-e2f00fe62ff0",
   "metadata": {},
   "outputs": [
    {
     "name": "stdout",
     "output_type": "stream",
     "text": [
      "Predicted output: 5\n"
     ]
    }
   ],
   "source": [
    "np_img_re = np.reshape(np_img, (1,1,28,28))    \n",
    "# 0 - 255 => 0 - 1 로 정규화, np.array => tensor 변환\n",
    "data = Variable(torch.tensor((np_img_re / 255), dtype = torch.float32))\n",
    "    \n",
    "# Output of feedforwarding\n",
    "output = model(data)\n",
    "pred = output.data.max(1, keepdim=True)[1]\n",
    "print('Predicted output: ' + ', '.join(map(str, pred.flatten().tolist())))"
   ]
  },
  {
   "cell_type": "markdown",
   "id": "79fe0f73-49a9-4473-bb46-c3e29b78097c",
   "metadata": {},
   "source": [
    "## 3. Testing using Base64 Image\n",
    "Test the model to classify a digit from a Base64-encoded image."
   ]
  },
  {
   "cell_type": "code",
   "execution_count": 7,
   "id": "335e8cb0-158a-44a9-8a7f-bffa91032369",
   "metadata": {},
   "outputs": [],
   "source": [
    "import re\n",
    "import base64\n",
    "import io"
   ]
  },
  {
   "cell_type": "code",
   "execution_count": 8,
   "id": "4ed0e98f-6018-4707-b5db-55814b54f685",
   "metadata": {},
   "outputs": [
    {
     "data": {
      "text/plain": [
       "<matplotlib.image.AxesImage at 0x1160c9f8410>"
      ]
     },
     "execution_count": 8,
     "metadata": {},
     "output_type": "execute_result"
    },
    {
     "data": {
      "image/png": "[encoded data removed]",
      "text/plain": [
       "<Figure size 640x480 with 1 Axes>"
      ]
     },
     "metadata": {},
     "output_type": "display_data"
    }
   ],
   "source": [
    "# Base64 of digit \"2\"\n",
    "base64str = 'data:image/png;base64,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'\n",
    "imgstr = re.search(r'base64,(.*)', str(base64str)).group(1)\n",
    "file = io.BytesIO(base64.b64decode(imgstr));\n",
    "img = Image.open(file).convert(\"L\")\n",
    "img = img.resize((28, 28))\n",
    "im2arr = np.array(img)\n",
    "pyplot.imshow(im2arr, cmap=pyplot.get_cmap('gray'))"
   ]
  },
  {
   "cell_type": "code",
   "execution_count": 9,
   "id": "713db582-d1d3-4734-b0ae-904b556376b6",
   "metadata": {},
   "outputs": [
    {
     "name": "stdout",
     "output_type": "stream",
     "text": [
      "Predicted output: 2\n"
     ]
    }
   ],
   "source": [
    "im2arr = im2arr.reshape(1, 1, 28, 28)\n",
    "# 0 - 255 => 0 - 1 로 정규화, np.array => tensor 변환\n",
    "data = Variable(torch.tensor((im2arr / 255), dtype = torch.float32))\n",
    "\n",
    "# Output of feedforwarding\n",
    "output = model(data)\n",
    "pred = output.data.max(1, keepdim=True)[1]\n",
    "print('Predicted output: ' + ', '.join(map(str, pred.flatten().tolist())))"
   ]
  },
  {
   "cell_type": "code",
   "execution_count": null,
   "id": "d4bd8231-80e2-4b91-9d41-009f7c655fa2",
   "metadata": {},
   "outputs": [],
   "source": []
  }
 ],
 "metadata": {
  "kernelspec": {
   "display_name": "Python 3 (ipykernel)",
   "language": "python",
   "name": "python3"
  },
  "language_info": {
   "codemirror_mode": {
    "name": "ipython",
    "version": 3
   },
   "file_extension": ".py",
   "mimetype": "text/x-python",
   "name": "python",
   "nbconvert_exporter": "python",
   "pygments_lexer": "ipython3",
   "version": "3.13.2"
  }
 },
 "nbformat": 4,
 "nbformat_minor": 5
}
